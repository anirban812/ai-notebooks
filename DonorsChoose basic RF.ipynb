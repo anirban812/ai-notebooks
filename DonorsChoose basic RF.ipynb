{
 "cells": [
  {
   "cell_type": "code",
   "execution_count": 1,
   "metadata": {},
   "outputs": [
    {
     "name": "stdout",
     "output_type": "stream",
     "text": [
      "env: CUDA_DEVICE_ORDER=PCI_BUS_ID\n",
      "env: CUDA_VISIBLE_DEVICES=0\n"
     ]
    }
   ],
   "source": [
    "gpu=0\n",
    "%env CUDA_DEVICE_ORDER=PCI_BUS_ID\n",
    "%env CUDA_VISIBLE_DEVICES=$gpu\n",
    "\n",
    "%reload_ext autoreload\n",
    "%autoreload 2\n",
    "%matplotlib inline\n",
    "\n",
    "import sys\n",
    "fast_path = '/home/kevin/fastai'\n",
    "sys.path.append(fast_path)\n",
    "\n",
    "from fastai.learner import *\n",
    "from fastai.structured import *\n",
    "\n",
    "import torchtext\n",
    "from torchtext import vocab, data\n",
    "from torchtext.datasets import language_modeling\n",
    "\n",
    "from fastai.rnn_reg import *\n",
    "from fastai.rnn_train import *\n",
    "from fastai.nlp import *\n",
    "from fastai.lm_rnn import *\n",
    "\n",
    "import dill as pickle\n",
    "from sklearn.ensemble import RandomForestRegressor, RandomForestClassifier"
   ]
  },
  {
   "cell_type": "code",
   "execution_count": 124,
   "metadata": {},
   "outputs": [],
   "source": [
    "data_path = '/home/kevin/fastai/kaggle2/DonorsChoose/data/'\n",
    "results_path = '/home/kevin/fastai/kaggle2/DonorsChoose/results/'"
   ]
  },
  {
   "cell_type": "code",
   "execution_count": 3,
   "metadata": {},
   "outputs": [],
   "source": [
    "def join_df(left, right, left_on, right_on=None):\n",
    "    if right_on is None: right_on=left_on\n",
    "    return left.merge(right, how='left', left_on=left_on, right_on=right_on, suffixes=(\"\", \"_y\"))"
   ]
  },
  {
   "cell_type": "markdown",
   "metadata": {},
   "source": [
    "### Load data"
   ]
  },
  {
   "cell_type": "code",
   "execution_count": 4,
   "metadata": {},
   "outputs": [],
   "source": [
    "dtypes = {'project_is_approved': np.bool,\n",
    "          'teacher_number_of_previously_posted_projects': np.uint8\n",
    "         }"
   ]
  },
  {
   "cell_type": "code",
   "execution_count": 5,
   "metadata": {},
   "outputs": [
    {
     "name": "stderr",
     "output_type": "stream",
     "text": [
      "/home/kevin/anaconda2/envs/fastai/lib/python3.6/site-packages/IPython/core/interactiveshell.py:2785: DtypeWarning: Columns (11,12) have mixed types. Specify dtype option on import or set low_memory=False.\n",
      "  interactivity=interactivity, compiler=compiler, result=result)\n"
     ]
    }
   ],
   "source": [
    "train = pd.read_csv(data_path + 'train.csv', dtype=dtypes, \n",
    "                    parse_dates=['project_submitted_datetime'])\n",
    "resources = pd.read_csv(data_path + 'resources.csv', dtype=dtypes)\n",
    "test = pd.read_csv(data_path + 'test.csv', dtype=dtypes, \n",
    "                   parse_dates=['project_submitted_datetime'])\n",
    "sample_submission = pd.read_csv(data_path+ 'sample_submission.csv')"
   ]
  },
  {
   "cell_type": "code",
   "execution_count": 6,
   "metadata": {},
   "outputs": [],
   "source": [
    "resources['description'].fillna(' ', inplace=True)"
   ]
  },
  {
   "cell_type": "markdown",
   "metadata": {},
   "source": [
    "## Merge training data"
   ]
  },
  {
   "cell_type": "code",
   "execution_count": 8,
   "metadata": {},
   "outputs": [],
   "source": [
    "val_idx = train.sample(frac=0.1).index.values.tolist()\n",
    "train['role'] = 'trn'\n",
    "train.loc[val_idx, 'role'] = 'val'\n",
    "test['role'] = 'tst'\n",
    "test['project_is_approved'] = False"
   ]
  },
  {
   "cell_type": "code",
   "execution_count": 9,
   "metadata": {},
   "outputs": [],
   "source": [
    "all_df = train.append(test)"
   ]
  },
  {
   "cell_type": "code",
   "execution_count": 11,
   "metadata": {},
   "outputs": [],
   "source": [
    "all_df = join_df(all_df, resources, 'id')"
   ]
  },
  {
   "cell_type": "code",
   "execution_count": 12,
   "metadata": {},
   "outputs": [],
   "source": [
    "all_df['teacher_prefix'].fillna('Teacher', inplace=True)"
   ]
  },
  {
   "cell_type": "markdown",
   "metadata": {},
   "source": [
    "## Prep training data"
   ]
  },
  {
   "cell_type": "code",
   "execution_count": 14,
   "metadata": {},
   "outputs": [],
   "source": [
    "#no text columns\n",
    "non_text_fields = ['teacher_id', 'teacher_prefix', 'school_state', 'project_submitted_datetime',\n",
    "                  'project_grade_category', 'project_subject_categories', 'project_subject_subcategories',\n",
    "                  'teacher_number_of_previously_posted_projects', 'quantity', 'project_is_approved',\n",
    "                   'price', 'role', 'id']\n",
    "all_df_nt = all_df[non_text_fields].copy()"
   ]
  },
  {
   "cell_type": "code",
   "execution_count": 15,
   "metadata": {},
   "outputs": [],
   "source": [
    "all_df_nt.rename(columns={'project_submitted_datetime': 'submitted_'}, inplace=True)"
   ]
  },
  {
   "cell_type": "code",
   "execution_count": 16,
   "metadata": {},
   "outputs": [],
   "source": [
    "add_datepart(all_df_nt, 'submitted_')"
   ]
  },
  {
   "cell_type": "code",
   "execution_count": 17,
   "metadata": {},
   "outputs": [],
   "source": [
    "cols = list(all_df_nt.columns)"
   ]
  },
  {
   "cell_type": "code",
   "execution_count": 18,
   "metadata": {},
   "outputs": [],
   "source": [
    "cat_vars = ['teacher_id',\n",
    " 'teacher_prefix',\n",
    " 'school_state',\n",
    " 'project_grade_category',\n",
    " 'project_subject_categories',\n",
    " 'project_subject_subcategories',\n",
    " 'submitted_Year',\n",
    " 'submitted_Month',\n",
    " 'submitted_Week',\n",
    " 'submitted_Day',\n",
    " 'submitted_Dayofweek',\n",
    " 'submitted_Dayofyear',\n",
    " 'submitted_Is_month_end',\n",
    " 'submitted_Is_month_start',\n",
    " 'submitted_Is_quarter_end',\n",
    " 'submitted_Is_quarter_start',\n",
    " 'submitted_Is_year_end',\n",
    " 'submitted_Is_year_start']"
   ]
  },
  {
   "cell_type": "code",
   "execution_count": 19,
   "metadata": {},
   "outputs": [],
   "source": [
    "for v in cat_vars: \n",
    "    all_df_nt[v] = all_df_nt[v].astype('category').cat.as_ordered()\n",
    "df, _, nas, mapper = proc_df(all_df_nt, ignore_flds=['role', 'id', 'project_is_approved'], do_scale=True)"
   ]
  },
  {
   "cell_type": "markdown",
   "metadata": {},
   "source": [
    "## Split train, valid, test"
   ]
  },
  {
   "cell_type": "code",
   "execution_count": null,
   "metadata": {},
   "outputs": [],
   "source": [
    "trn_df = df[df['role']=='trn'].copy()\n",
    "trn_id = trn_df['id'].values\n",
    "trn_y = trn_df['project_is_approved'].values\n",
    "trn_df.drop(['role', 'id','project_is_approved'], axis=1, inplace=True)"
   ]
  },
  {
   "cell_type": "code",
   "execution_count": 21,
   "metadata": {},
   "outputs": [],
   "source": [
    "val_df = df[df['role']=='val'].copy()\n",
    "val_id = val_df['id'].values\n",
    "val_y = val_df['project_is_approved'].values\n",
    "val_df.drop(['role', 'id','project_is_approved'], axis=1, inplace=True)"
   ]
  },
  {
   "cell_type": "code",
   "execution_count": 22,
   "metadata": {},
   "outputs": [],
   "source": [
    "tst_df = df[df['role']=='tst'].copy()\n",
    "tst_id = tst_df['id'].values\n",
    "tst_df.drop(['role', 'id','project_is_approved'], axis=1, inplace=True)"
   ]
  },
  {
   "cell_type": "code",
   "execution_count": 138,
   "metadata": {},
   "outputs": [
    {
     "name": "stdout",
     "output_type": "stream",
     "text": [
      "True\n",
      "True\n",
      "True\n"
     ]
    }
   ],
   "source": [
    "#checks\n",
    "print(len(trn_df)+len(val_df)+len(tst_df)==len(df))\n",
    "print(len(trn_y)==len(trn_df))\n",
    "print(len(set(list(tst_id))) == len(test))"
   ]
  },
  {
   "cell_type": "markdown",
   "metadata": {},
   "source": [
    "## Random Forest"
   ]
  },
  {
   "cell_type": "code",
   "execution_count": 34,
   "metadata": {},
   "outputs": [],
   "source": [
    "x = np.array(trn_df, dtype=np.float32) #speeds up rf in scikit-learn"
   ]
  },
  {
   "cell_type": "code",
   "execution_count": 90,
   "metadata": {},
   "outputs": [],
   "source": [
    "m_rf = RandomForestClassifier(n_estimators = 10, n_jobs = 8, min_samples_leaf=30)"
   ]
  },
  {
   "cell_type": "code",
   "execution_count": 91,
   "metadata": {},
   "outputs": [
    {
     "name": "stdout",
     "output_type": "stream",
     "text": [
      "CPU times: user 20.3 s, sys: 6.77 s, total: 27.1 s\n",
      "Wall time: 3.62 s\n"
     ]
    },
    {
     "data": {
      "text/plain": [
       "RandomForestClassifier(bootstrap=True, class_weight=None, criterion='gini',\n",
       "            max_depth=None, max_features='auto', max_leaf_nodes=None,\n",
       "            min_impurity_decrease=0.0, min_impurity_split=None,\n",
       "            min_samples_leaf=30, min_samples_split=2,\n",
       "            min_weight_fraction_leaf=0.0, n_estimators=10, n_jobs=8,\n",
       "            oob_score=False, random_state=None, verbose=0,\n",
       "            warm_start=False)"
      ]
     },
     "execution_count": 91,
     "metadata": {},
     "output_type": "execute_result"
    }
   ],
   "source": [
    "%time m_rf.fit(x, trn_y)"
   ]
  },
  {
   "cell_type": "code",
   "execution_count": 92,
   "metadata": {},
   "outputs": [
    {
     "data": {
      "text/plain": [
       "0.8721325595225888"
      ]
     },
     "execution_count": 92,
     "metadata": {},
     "output_type": "execute_result"
    }
   ],
   "source": [
    "m_rf.score(trn_df, trn_y)"
   ]
  },
  {
   "cell_type": "code",
   "execution_count": 93,
   "metadata": {},
   "outputs": [
    {
     "data": {
      "text/plain": [
       "0.7789809514872853"
      ]
     },
     "execution_count": 93,
     "metadata": {},
     "output_type": "execute_result"
    }
   ],
   "source": [
    "\n",
    "m_rf.score(val_df, val_y)"
   ]
  },
  {
   "cell_type": "code",
   "execution_count": 87,
   "metadata": {
    "collapsed": true
   },
   "outputs": [
    {
     "data": {
      "text/html": [
       "<div>\n",
       "<style scoped>\n",
       "    .dataframe tbody tr th:only-of-type {\n",
       "        vertical-align: middle;\n",
       "    }\n",
       "\n",
       "    .dataframe tbody tr th {\n",
       "        vertical-align: top;\n",
       "    }\n",
       "\n",
       "    .dataframe thead th {\n",
       "        text-align: right;\n",
       "    }\n",
       "</style>\n",
       "<table border=\"1\" class=\"dataframe\">\n",
       "  <thead>\n",
       "    <tr style=\"text-align: right;\">\n",
       "      <th></th>\n",
       "      <th>cols</th>\n",
       "      <th>imp</th>\n",
       "    </tr>\n",
       "  </thead>\n",
       "  <tbody>\n",
       "    <tr>\n",
       "      <th>0</th>\n",
       "      <td>teacher_id</td>\n",
       "      <td>0.136592</td>\n",
       "    </tr>\n",
       "    <tr>\n",
       "      <th>21</th>\n",
       "      <td>submitted_Elapsed</td>\n",
       "      <td>0.130389</td>\n",
       "    </tr>\n",
       "    <tr>\n",
       "      <th>6</th>\n",
       "      <td>teacher_number_of_previously_posted_projects</td>\n",
       "      <td>0.098927</td>\n",
       "    </tr>\n",
       "    <tr>\n",
       "      <th>2</th>\n",
       "      <td>school_state</td>\n",
       "      <td>0.093329</td>\n",
       "    </tr>\n",
       "    <tr>\n",
       "      <th>5</th>\n",
       "      <td>project_subject_subcategories</td>\n",
       "      <td>0.083228</td>\n",
       "    </tr>\n",
       "    <tr>\n",
       "      <th>14</th>\n",
       "      <td>submitted_Dayofyear</td>\n",
       "      <td>0.075757</td>\n",
       "    </tr>\n",
       "    <tr>\n",
       "      <th>12</th>\n",
       "      <td>submitted_Day</td>\n",
       "      <td>0.071771</td>\n",
       "    </tr>\n",
       "    <tr>\n",
       "      <th>4</th>\n",
       "      <td>project_subject_categories</td>\n",
       "      <td>0.069052</td>\n",
       "    </tr>\n",
       "    <tr>\n",
       "      <th>8</th>\n",
       "      <td>price</td>\n",
       "      <td>0.052813</td>\n",
       "    </tr>\n",
       "    <tr>\n",
       "      <th>13</th>\n",
       "      <td>submitted_Dayofweek</td>\n",
       "      <td>0.046455</td>\n",
       "    </tr>\n",
       "    <tr>\n",
       "      <th>11</th>\n",
       "      <td>submitted_Week</td>\n",
       "      <td>0.038517</td>\n",
       "    </tr>\n",
       "    <tr>\n",
       "      <th>3</th>\n",
       "      <td>project_grade_category</td>\n",
       "      <td>0.034036</td>\n",
       "    </tr>\n",
       "    <tr>\n",
       "      <th>1</th>\n",
       "      <td>teacher_prefix</td>\n",
       "      <td>0.026595</td>\n",
       "    </tr>\n",
       "    <tr>\n",
       "      <th>7</th>\n",
       "      <td>quantity</td>\n",
       "      <td>0.017867</td>\n",
       "    </tr>\n",
       "    <tr>\n",
       "      <th>10</th>\n",
       "      <td>submitted_Month</td>\n",
       "      <td>0.016650</td>\n",
       "    </tr>\n",
       "    <tr>\n",
       "      <th>16</th>\n",
       "      <td>submitted_Is_month_start</td>\n",
       "      <td>0.003101</td>\n",
       "    </tr>\n",
       "    <tr>\n",
       "      <th>9</th>\n",
       "      <td>submitted_Year</td>\n",
       "      <td>0.001928</td>\n",
       "    </tr>\n",
       "    <tr>\n",
       "      <th>15</th>\n",
       "      <td>submitted_Is_month_end</td>\n",
       "      <td>0.001568</td>\n",
       "    </tr>\n",
       "    <tr>\n",
       "      <th>18</th>\n",
       "      <td>submitted_Is_quarter_start</td>\n",
       "      <td>0.000771</td>\n",
       "    </tr>\n",
       "    <tr>\n",
       "      <th>17</th>\n",
       "      <td>submitted_Is_quarter_end</td>\n",
       "      <td>0.000483</td>\n",
       "    </tr>\n",
       "    <tr>\n",
       "      <th>19</th>\n",
       "      <td>submitted_Is_year_end</td>\n",
       "      <td>0.000133</td>\n",
       "    </tr>\n",
       "    <tr>\n",
       "      <th>20</th>\n",
       "      <td>submitted_Is_year_start</td>\n",
       "      <td>0.000037</td>\n",
       "    </tr>\n",
       "  </tbody>\n",
       "</table>\n",
       "</div>"
      ],
      "text/plain": [
       "                                            cols       imp\n",
       "0                                     teacher_id  0.136592\n",
       "21                             submitted_Elapsed  0.130389\n",
       "6   teacher_number_of_previously_posted_projects  0.098927\n",
       "2                                   school_state  0.093329\n",
       "5                  project_subject_subcategories  0.083228\n",
       "14                           submitted_Dayofyear  0.075757\n",
       "12                                 submitted_Day  0.071771\n",
       "4                     project_subject_categories  0.069052\n",
       "8                                          price  0.052813\n",
       "13                           submitted_Dayofweek  0.046455\n",
       "11                                submitted_Week  0.038517\n",
       "3                         project_grade_category  0.034036\n",
       "1                                 teacher_prefix  0.026595\n",
       "7                                       quantity  0.017867\n",
       "10                               submitted_Month  0.016650\n",
       "16                      submitted_Is_month_start  0.003101\n",
       "9                                 submitted_Year  0.001928\n",
       "15                        submitted_Is_month_end  0.001568\n",
       "18                    submitted_Is_quarter_start  0.000771\n",
       "17                      submitted_Is_quarter_end  0.000483\n",
       "19                         submitted_Is_year_end  0.000133\n",
       "20                       submitted_Is_year_start  0.000037"
      ]
     },
     "execution_count": 87,
     "metadata": {},
     "output_type": "execute_result"
    }
   ],
   "source": [
    "rf_feat_importance(m_rf, val_df)"
   ]
  },
  {
   "cell_type": "code",
   "execution_count": 88,
   "metadata": {},
   "outputs": [
    {
     "data": {
      "text/plain": [
       "0.5941990286346086"
      ]
     },
     "execution_count": 88,
     "metadata": {},
     "output_type": "execute_result"
    }
   ],
   "source": [
    "#validation\n",
    "ev = pd.DataFrame()\n",
    "ev['y'] = val_y\n",
    "ev['id'] = val_id\n",
    "ev['preds'] = m_rf.predict_proba(val_df)[:,-1]\n",
    "gev = ev.groupby(['id', 'y'])['preds'].mean()\n",
    "gev = pd.DataFrame(gev).reset_index()\n",
    "metrics.roc_auc_score(gev['y'].values, gev['preds'].values)"
   ]
  },
  {
   "cell_type": "code",
   "execution_count": 103,
   "metadata": {},
   "outputs": [
    {
     "data": {
      "text/plain": [
       "0.8963326549544774"
      ]
     },
     "execution_count": 103,
     "metadata": {},
     "output_type": "execute_result"
    }
   ],
   "source": [
    "#train\n",
    "ev = pd.DataFrame()\n",
    "ev['y'] = trn_y\n",
    "ev['id'] = trn_id\n",
    "ev['preds'] = m_rf.predict_proba(trn_df)[:,-1]\n",
    "gev = ev.groupby(['id', 'y'])['preds'].mean()\n",
    "gev = pd.DataFrame(gev).reset_index()\n",
    "metrics.roc_auc_score(gev['y'].values, gev['preds'].values)"
   ]
  },
  {
   "cell_type": "markdown",
   "metadata": {},
   "source": [
    "# Submission"
   ]
  },
  {
   "cell_type": "code",
   "execution_count": 131,
   "metadata": {},
   "outputs": [
    {
     "data": {
      "text/plain": [
       "True"
      ]
     },
     "execution_count": 131,
     "metadata": {},
     "output_type": "execute_result"
    }
   ],
   "source": [
    "#test\n",
    "tst = pd.DataFrame()\n",
    "tst['id'] = tst_id\n",
    "tst['project_is_approved'] = m_rf.predict_proba(tst_df)[:,-1]\n",
    "res = tst.groupby(['id'])['project_is_approved'].mean()\n",
    "res = pd.DataFrame(res).reset_index()\n",
    "set(res['id'].values) == set(sample_submission['id'].values) "
   ]
  },
  {
   "cell_type": "code",
   "execution_count": 133,
   "metadata": {},
   "outputs": [],
   "source": [
    "sample_submission = pd.read_csv(data_path+ 'sample_submission.csv')\n",
    "sample_submission.drop('project_is_approved', axis=1, inplace=True)"
   ]
  },
  {
   "cell_type": "code",
   "execution_count": 134,
   "metadata": {},
   "outputs": [],
   "source": [
    "sample_submission = join_df(sample_submission, res, 'id')"
   ]
  },
  {
   "cell_type": "code",
   "execution_count": 136,
   "metadata": {},
   "outputs": [],
   "source": [
    "fname = 'simple_rf.csv.gz'\n",
    "sample_submission.to_csv(results_path+ fname, index=False, compression='gzip')\n",
    "# competition= 'favorita-grocery-sales-forecasting'\n",
    "res = results_path + fname"
   ]
  },
  {
   "cell_type": "code",
   "execution_count": 137,
   "metadata": {},
   "outputs": [
    {
     "name": "stdout",
     "output_type": "stream",
     "text": [
      "Successfully submitted to DonorsChoose.org Application Screening"
     ]
    }
   ],
   "source": [
    "!kaggle competitions submit -c 'donorschoose-application-screening' -f $res -m 'simple rf val score .77'"
   ]
  }
 ],
 "metadata": {
  "kernelspec": {
   "display_name": "Python 3",
   "language": "python",
   "name": "python3"
  },
  "language_info": {
   "codemirror_mode": {
    "name": "ipython",
    "version": 3
   },
   "file_extension": ".py",
   "mimetype": "text/x-python",
   "name": "python",
   "nbconvert_exporter": "python",
   "pygments_lexer": "ipython3",
   "version": "3.6.5"
  }
 },
 "nbformat": 4,
 "nbformat_minor": 2
}
